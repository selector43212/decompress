{
 "cells": [
  {
   "cell_type": "code",
   "execution_count": 15,
   "metadata": {},
   "outputs": [],
   "source": [
    "import os\n",
    "import sys\n",
    "import numpy as np\n",
    "import pandas as pd\n",
    "from xml.etree import ElementTree as ET"
   ]
  },
  {
   "cell_type": "code",
   "execution_count": 16,
   "metadata": {},
   "outputs": [],
   "source": [
    "xml_path = 'apple_health_export/export.xml'"
   ]
  },
  {
   "cell_type": "code",
   "execution_count": 17,
   "metadata": {},
   "outputs": [],
   "source": [
    "with open(xml_path, 'r') as f:\n",
    "    data = ET.parse(f)"
   ]
  },
  {
   "cell_type": "code",
   "execution_count": 18,
   "metadata": {},
   "outputs": [
    {
     "name": "stderr",
     "output_type": "stream",
     "text": [
      "/Users/surya/Utils/miniconda3/envs/py37/lib/python3.7/site-packages/ipykernel_launcher.py:2: DeprecationWarning: This method will be removed in future versions.  Use 'list(elem)' or iteration over elem instead.\n",
      "  \n"
     ]
    }
   ],
   "source": [
    "root = data._root\n",
    "nodes = root.getchildren()"
   ]
  },
  {
   "cell_type": "code",
   "execution_count": 21,
   "metadata": {},
   "outputs": [
    {
     "data": {
      "text/plain": [
       "[<Element 'ExportDate' at 0x127710e30>,\n",
       " <Element 'Me' at 0x127705cb0>,\n",
       " <Element 'Record' at 0x127859890>,\n",
       " <Element 'Record' at 0x1278597d0>,\n",
       " <Element 'Record' at 0x127859650>]"
      ]
     },
     "execution_count": 21,
     "metadata": {},
     "output_type": "execute_result"
    }
   ],
   "source": [
    "nodes[:5]"
   ]
  },
  {
   "cell_type": "code",
   "execution_count": 20,
   "metadata": {},
   "outputs": [
    {
     "name": "stdout",
     "output_type": "stream",
     "text": [
      "<Record creationDate=\"2018-04-03 12:23:58 -0800\" endDate=\"2018-04-03 12:23:57 -0800\" sourceName=\"Health\" sourceVersion=\"11.2.5\" startDate=\"2018-04-03 12:23:57 -0800\" type=\"HKQuantityTypeIdentifierHeight\" unit=\"ft\" value=\"5.33333\" />\n",
      " \n"
     ]
    }
   ],
   "source": [
    "ET.dump(nodes[2])"
   ]
  },
  {
   "cell_type": "code",
   "execution_count": 25,
   "metadata": {},
   "outputs": [
    {
     "name": "stdout",
     "output_type": "stream",
     "text": [
      "<Record creationDate=\"2018-04-03 12:23:58 -0800\" endDate=\"2018-04-03 12:23:57 -0800\" sourceName=\"Health\" sourceVersion=\"11.2.5\" startDate=\"2018-04-03 12:23:57 -0800\" type=\"HKQuantityTypeIdentifierBodyMass\" unit=\"lb\" value=\"125\" />\n",
      " \n"
     ]
    }
   ],
   "source": [
    "var = ET.dump(nodes[4])"
   ]
  },
  {
   "cell_type": "code",
   "execution_count": 35,
   "metadata": {},
   "outputs": [
    {
     "name": "stdout",
     "output_type": "stream",
     "text": [
      "creationDate, startDate, endDate, sourceName, sourceName, type, unit, value\n",
      "2018-04-03 12:23:58 -0800, 2018-04-03 12:23:57 -0800, 2018-04-03 12:23:57 -0800, Health, HKQuantityTypeIdentifierHeight, ft,5.33333\n",
      "2019-12-04 19:25:51 -0800, 2019-12-04 19:25:51 -0800, 2019-12-04 19:25:51 -0800, Sia, HKQuantityTypeIdentifierHeight, ft,5.25\n",
      "2018-04-03 12:23:58 -0800, 2018-04-03 12:23:57 -0800, 2018-04-03 12:23:57 -0800, Health, HKQuantityTypeIdentifierBodyMass, lb,125\n",
      "2019-12-04 19:51:27 -0800, 2019-12-04 19:48:36 -0800, 2019-12-04 19:48:36 -0800, Sia’s Apple Watch, HKQuantityTypeIdentifierHeartRate, count/min,74\n",
      "2019-12-04 19:55:11 -0800, 2019-12-04 19:51:53 -0800, 2019-12-04 19:51:53 -0800, Sia’s Apple Watch, HKQuantityTypeIdentifierHeartRate, count/min,89\n",
      "2019-12-04 19:55:24 -0800, 2019-12-04 19:55:23 -0800, 2019-12-04 19:55:23 -0800, Sia’s Apple Watch, HKQuantityTypeIdentifierHeartRate, count/min,107\n",
      "2019-12-04 19:55:28 -0800, 2019-12-04 19:55:27 -0800, 2019-12-04 19:55:27 -0800, Sia’s Apple Watch, HKQuantityTypeIdentifierHeartRate, count/min,100\n",
      "2019-12-04 19:55:33 -0800, 2019-12-04 19:55:29 -0800, 2019-12-04 19:55:29 -0800, Sia’s Apple Watch, HKQuantityTypeIdentifierHeartRate, count/min,100\n"
     ]
    }
   ],
   "source": [
    "print(f'creationDate, startDate, endDate, sourceName, sourceName, type, unit, value')\n",
    "for node in nodes[2:10]:\n",
    "    print(f\"{node.attrib['creationDate']}, {node.attrib['startDate']}, {node.attrib['endDate']}, {node.attrib['sourceName']}, {node.attrib['type']}, {node.attrib['unit']},{node.attrib['value']}\")"
   ]
  },
  {
   "cell_type": "code",
   "execution_count": null,
   "metadata": {},
   "outputs": [],
   "source": []
  }
 ],
 "metadata": {
  "kernelspec": {
   "display_name": "Python 3",
   "language": "python",
   "name": "python3"
  },
  "language_info": {
   "codemirror_mode": {
    "name": "ipython",
    "version": 3
   },
   "file_extension": ".py",
   "mimetype": "text/x-python",
   "name": "python",
   "nbconvert_exporter": "python",
   "pygments_lexer": "ipython3",
   "version": "3.7.5"
  }
 },
 "nbformat": 4,
 "nbformat_minor": 2
}
